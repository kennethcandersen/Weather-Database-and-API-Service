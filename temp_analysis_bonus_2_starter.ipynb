{
 "cells": [
  {
   "cell_type": "code",
   "execution_count": 1,
   "metadata": {},
   "outputs": [],
   "source": [
    "#Import dependencies\n",
    "\n",
    "%matplotlib inline\n",
    "from matplotlib import style\n",
    "style.use('fivethirtyeight')\n",
    "import matplotlib.pyplot as plt\n",
    "import numpy as np\n",
    "import pandas as pd\n",
    "import datetime as dt\n",
    "from datetime import datetime as dt\n",
    "from datetime import timedelta "
   ]
  },
  {
   "cell_type": "markdown",
   "metadata": {},
   "source": [
    "## Reflect Tables into SQLALchemy ORM"
   ]
  },
  {
   "cell_type": "code",
   "execution_count": 3,
   "metadata": {},
   "outputs": [],
   "source": [
    "# Import Python SQL toolkit and Object Relational Mapper\n",
    "\n",
    "import sqlalchemy\n",
    "from sqlalchemy.ext.automap import automap_base\n",
    "from sqlalchemy.orm import Session\n",
    "from sqlalchemy import create_engine, func, inspect"
   ]
  },
  {
   "cell_type": "code",
   "execution_count": 4,
   "metadata": {},
   "outputs": [],
   "source": [
    "# create engine to hawaii.sqlite\n",
    "\n",
    "engine = create_engine(\"sqlite:///Resources/hawaii.sqlite\")"
   ]
  },
  {
   "cell_type": "code",
   "execution_count": 5,
   "metadata": {},
   "outputs": [],
   "source": [
    "# reflect an existing database into a new model\n",
    "\n",
    "Base = automap_base()\n",
    "Base.prepare(engine, reflect=True)"
   ]
  },
  {
   "cell_type": "code",
   "execution_count": 7,
   "metadata": {},
   "outputs": [
    {
     "data": {
      "text/plain": [
       "['measurement', 'station']"
      ]
     },
     "execution_count": 7,
     "metadata": {},
     "output_type": "execute_result"
    }
   ],
   "source": [
    "# View all of the classes that automap found\n",
    "\n",
    "inspector = inspect(engine)\n",
    "inspector.get_table_names()"
   ]
  },
  {
   "cell_type": "code",
   "execution_count": 8,
   "metadata": {},
   "outputs": [],
   "source": [
    "# Save references to each table\n",
    "\n",
    "Measurement = Base.classes.measurement\n",
    "Stations = Base.classes.station"
   ]
  },
  {
   "cell_type": "code",
   "execution_count": 9,
   "metadata": {},
   "outputs": [],
   "source": [
    "# Create our session (link) from Python to the DB\n",
    "\n",
    "session = Session(engine)"
   ]
  },
  {
   "cell_type": "markdown",
   "metadata": {},
   "source": [
    "## Bonus Challenge Assignment: Temperature Analysis II"
   ]
  },
  {
   "cell_type": "code",
   "execution_count": 10,
   "metadata": {},
   "outputs": [],
   "source": [
    "# This function called `calc_temps` will accept start date and end date in the format '%Y-%m-%d' \n",
    "# and return the minimum, maximum, and average temperatures for that range of dates\n",
    "def calc_temps(start_date, end_date):\n",
    "    \"\"\"TMIN, TAVG, and TMAX for a list of dates.\n",
    "    \n",
    "    Args:\n",
    "        start_date (string): A date string in the format %Y-%m-%d\n",
    "        end_date (string): A date string in the format %Y-%m-%d\n",
    "        \n",
    "    Returns:\n",
    "        TMIN, TAVE, and TMAX\n",
    "    \"\"\"\n",
    "    \n",
    "    return session.query(func.min(Measurement.tobs), func.avg(Measurement.tobs), func.max(Measurement.tobs)).\\\n",
    "        filter(Measurement.date >= start_date).filter(Measurement.date <= end_date).all()\n"
   ]
  },
  {
   "cell_type": "code",
   "execution_count": 11,
   "metadata": {},
   "outputs": [
    {
     "data": {
      "text/plain": [
       "(58.0, 74.14387974230493, 87.0)"
      ]
     },
     "execution_count": 11,
     "metadata": {},
     "output_type": "execute_result"
    }
   ],
   "source": [
    "# Use the function `calc_temps` to calculate the tmin, tavg, and tmax \n",
    "# for a year in the data set\n",
    "\n",
    "climate_data = calc_temps('2017-01-01', '2017-12-31')[0]\n",
    "climate_data"
   ]
  },
  {
   "cell_type": "code",
   "execution_count": 12,
   "metadata": {},
   "outputs": [
    {
     "data": {
      "image/png": "[encoded data removed]",
      "text/plain": [
       "<Figure size 216x288 with 1 Axes>"
      ]
     },
     "metadata": {},
     "output_type": "display_data"
    }
   ],
   "source": [
    "# Plot the results from your previous query as a bar chart. \n",
    "# Use \"Trip Avg Temp\" as your Title. Use the average temperature for bar height (y value)\n",
    "# Use the peak-to-peak (tmax-tmin) value as the y error bar (yerr)\n",
    "\n",
    "plt.figure(num=None, figsize=(3,4), dpi=None,                   # Set up plot figure\n",
    "           facecolor=None, edgecolor=None, frameon=True)\n",
    "\n",
    "x_axis = 'Average\\nTemperature'                                 # Set up x axis\n",
    "\n",
    "y_axis = climate_data[1]                                        # Set up y axis\n",
    "\n",
    "plt.bar(x_axis, y_axis, label='Average temperatures',           # Plot bar chart. Add the y error as the difference\n",
    "        width=.5, yerr=(climate_data[0]-climate_data[2]))       #   between the max and min temperature. \n",
    "\n",
    "plt.xlim(-.5, .5)                                               # Add some space to the x axis\n",
    "\n",
    "plt.title(\"TRIP AVERAGE\\nTEMPERATURE\", fontsize='x-large',      # Set up title\n",
    "           loc='center', pad=20)\n",
    "\n",
    "plt.ylabel(\"Temperature in Fahrenheit\",                         # Set up y axis label\n",
    "           fontsize='large', labelpad=10)\n",
    "\n",
    "\n",
    "plt.savefig(\"output_charts/average_trip_temperature.png\",       # Export chart\n",
    "            transparent=False)\n",
    "\n",
    "plt.show()"
   ]
  },
  {
   "cell_type": "markdown",
   "metadata": {},
   "source": [
    "### Daily Rainfall Average"
   ]
  },
  {
   "cell_type": "code",
   "execution_count": 13,
   "metadata": {},
   "outputs": [
    {
     "data": {
      "text/html": [
       "<div>\n",
       "<style scoped>\n",
       "    .dataframe tbody tr th:only-of-type {\n",
       "        vertical-align: middle;\n",
       "    }\n",
       "\n",
       "    .dataframe tbody tr th {\n",
       "        vertical-align: top;\n",
       "    }\n",
       "\n",
       "    .dataframe thead th {\n",
       "        text-align: right;\n",
       "    }\n",
       "</style>\n",
       "<table border=\"1\" class=\"dataframe\">\n",
       "  <thead>\n",
       "    <tr style=\"text-align: right;\">\n",
       "      <th></th>\n",
       "      <th>Station ID</th>\n",
       "      <th>Station Name</th>\n",
       "      <th>Latitude</th>\n",
       "      <th>Longitude</th>\n",
       "      <th>Elevation</th>\n",
       "      <th>Total Rainfall</th>\n",
       "    </tr>\n",
       "  </thead>\n",
       "  <tbody>\n",
       "    <tr>\n",
       "      <th>0</th>\n",
       "      <td>9</td>\n",
       "      <td>USC00516128</td>\n",
       "      <td>21.33310</td>\n",
       "      <td>-157.80250</td>\n",
       "      <td>152.4</td>\n",
       "      <td>0.36</td>\n",
       "    </tr>\n",
       "    <tr>\n",
       "      <th>1</th>\n",
       "      <td>3</td>\n",
       "      <td>USC00514830</td>\n",
       "      <td>21.52130</td>\n",
       "      <td>-157.83740</td>\n",
       "      <td>7.0</td>\n",
       "      <td>0.22</td>\n",
       "    </tr>\n",
       "    <tr>\n",
       "      <th>2</th>\n",
       "      <td>7</td>\n",
       "      <td>USC00519281</td>\n",
       "      <td>21.45167</td>\n",
       "      <td>-157.84889</td>\n",
       "      <td>32.9</td>\n",
       "      <td>0.06</td>\n",
       "    </tr>\n",
       "    <tr>\n",
       "      <th>3</th>\n",
       "      <td>1</td>\n",
       "      <td>USC00519397</td>\n",
       "      <td>21.27160</td>\n",
       "      <td>-157.81680</td>\n",
       "      <td>3.0</td>\n",
       "      <td>0.04</td>\n",
       "    </tr>\n",
       "    <tr>\n",
       "      <th>4</th>\n",
       "      <td>6</td>\n",
       "      <td>USC00519523</td>\n",
       "      <td>21.33556</td>\n",
       "      <td>-157.71139</td>\n",
       "      <td>19.5</td>\n",
       "      <td>0.00</td>\n",
       "    </tr>\n",
       "  </tbody>\n",
       "</table>\n",
       "</div>"
      ],
      "text/plain": [
       "   Station ID Station Name  Latitude  Longitude  Elevation  Total Rainfall\n",
       "0           9  USC00516128  21.33310 -157.80250      152.4            0.36\n",
       "1           3  USC00514830  21.52130 -157.83740        7.0            0.22\n",
       "2           7  USC00519281  21.45167 -157.84889       32.9            0.06\n",
       "3           1  USC00519397  21.27160 -157.81680        3.0            0.04\n",
       "4           6  USC00519523  21.33556 -157.71139       19.5            0.00"
      ]
     },
     "execution_count": 13,
     "metadata": {},
     "output_type": "execute_result"
    }
   ],
   "source": [
    "# Calculate the total amount of rainfall per weather station for your trip dates using the previous year's \n",
    "# matching dates. Sort this in descending order by precipitation amount and list the station,\n",
    "# name, latitude, longitude, and elevation\n",
    "\n",
    "trip_start_date = '2017-08-01'               # Set variables to start and end date\n",
    "trip_end_date = '2017-08-07'\n",
    "\n",
    "    # Get data for the trip data range:\n",
    "    #    1. Query station ids, names, lat, lobng, elevation, and func.sum of precipitation\n",
    "    #    2. Filter by station name (JOIN)\n",
    "    #    3. Filter by date range of trip\n",
    "    #    4. Group by station\n",
    "    #    5. Order by sum of precipitation in decending\n",
    "stmt = session.query(Stations.id, Stations.station, Stations.latitude, Stations.longitude, \n",
    "                     Stations.elevation, func.sum(Measurement.prcp)).\\\n",
    "    filter(Measurement.station == Stations.station).\\\n",
    "    filter(Measurement.date >= trip_start_date, Measurement.date <= trip_end_date).\\\n",
    "    group_by(Measurement.station).order_by(func.sum(Measurement.prcp).desc()).statement\n",
    "\n",
    "    # Create the dataframe and clean up column names\n",
    "rain_per_station = pd.read_sql_query(stmt, session.bind).\\\n",
    "    rename(columns={'id' : 'Station ID', 'station' : 'Station Name', \n",
    "                    'latitude' : 'Latitude', 'longitude' : 'Longitude', \n",
    "                    'elevation' : 'Elevation', 'sum_1': 'Total Rainfall'})\n",
    "\n",
    "rain_per_station"
   ]
  },
  {
   "cell_type": "code",
   "execution_count": 14,
   "metadata": {},
   "outputs": [],
   "source": [
    "# Use this function to calculate the daily normals \n",
    "# (i.e. the averages for tmin, tmax, and tavg for all historic data matching a specific month and day)\n",
    "\n",
    "def daily_normals(date):\n",
    "    \"\"\"Daily Normals.\n",
    "    \n",
    "    Args:\n",
    "        date (str): A date string in the format '%m-%d'\n",
    "        \n",
    "    Returns:\n",
    "        A list of tuples containing the daily normals, tmin, tavg, and tmax\n",
    "    \n",
    "    \"\"\"\n",
    "    \n",
    "    sel = [func.min(Measurement.tobs), func.round(func.avg(Measurement.tobs), 1), func.max(Measurement.tobs)]\n",
    "    return session.query(*sel).filter(func.strftime(\"%m-%d\", Measurement.date) == date).all()\n"
   ]
  },
  {
   "cell_type": "code",
   "execution_count": 20,
   "metadata": {},
   "outputs": [
    {
     "data": {
      "text/plain": [
       "[['Date', 'Min Temp', 'Avg Temp', 'Max Temp'],\n",
       " ['2017-08-01', 67.0, 75.5, 83.0],\n",
       " ['2017-08-02', 68.0, 75.6, 84.0],\n",
       " ['2017-08-03', 70.0, 76.6, 85.0],\n",
       " ['2017-08-04', 69.0, 76.7, 84.0],\n",
       " ['2017-08-05', 69.0, 76.1, 82.0],\n",
       " ['2017-08-06', 67.0, 76.3, 83.0],\n",
       " ['2017-08-07', 71.0, 77.2, 83.0]]"
      ]
     },
     "execution_count": 20,
     "metadata": {},
     "output_type": "execute_result"
    }
   ],
   "source": [
    "# calculate the daily normals for your trip push each tuple of calculations into a list called `normals`\n",
    "\n",
    "# Set the start and end date of the trip\n",
    "trip_start_date = '2017-08-01'               # Set variables to start and end date\n",
    "trip_end_date = '2017-08-07'\n",
    "\n",
    "\n",
    "# Use the start and end date to create a range of dates\n",
    "\n",
    "trip_start_date_dt_object = dt.strptime(trip_start_date, '%Y-%m-%d')\n",
    "trip_end_date_dt_object = dt.strptime(trip_end_date, '%Y-%m-%d')\n",
    "\n",
    "trip_date_range = trip_end_date_dt_object - trip_start_date_dt_object\n",
    "\n",
    "# Use the `daily_normals` function to calculate the normals for each date string \n",
    "# and append the results to a list called `normals`.\n",
    "normals = [['Date', 'Min Temp', 'Avg Temp', 'Max Temp']]\n",
    "\n",
    "for i in range(trip_date_range.days+1):\n",
    "    \n",
    "    date = (trip_start_date_dt_object + timedelta(days=i)).strftime(\"%m-%d\")\n",
    "    trip_date = (trip_start_date_dt_object + timedelta(days=i)).strftime(\"%Y-%m-%d\")\n",
    "    day_set= list(daily_normals(date)[0])\n",
    "    day_set.insert(0, trip_date)\n",
    "    normals.append(day_set)\n",
    "\n",
    "normals"
   ]
  },
  {
   "cell_type": "code",
   "execution_count": 21,
   "metadata": {},
   "outputs": [
    {
     "data": {
      "text/html": [
       "<div>\n",
       "<style scoped>\n",
       "    .dataframe tbody tr th:only-of-type {\n",
       "        vertical-align: middle;\n",
       "    }\n",
       "\n",
       "    .dataframe tbody tr th {\n",
       "        vertical-align: top;\n",
       "    }\n",
       "\n",
       "    .dataframe thead th {\n",
       "        text-align: right;\n",
       "    }\n",
       "</style>\n",
       "<table border=\"1\" class=\"dataframe\">\n",
       "  <thead>\n",
       "    <tr style=\"text-align: right;\">\n",
       "      <th></th>\n",
       "      <th>Min Temp</th>\n",
       "      <th>Avg Temp</th>\n",
       "      <th>Max Temp</th>\n",
       "    </tr>\n",
       "    <tr>\n",
       "      <th>Date</th>\n",
       "      <th></th>\n",
       "      <th></th>\n",
       "      <th></th>\n",
       "    </tr>\n",
       "  </thead>\n",
       "  <tbody>\n",
       "    <tr>\n",
       "      <th>2017-08-01</th>\n",
       "      <td>67.0</td>\n",
       "      <td>75.5</td>\n",
       "      <td>83.0</td>\n",
       "    </tr>\n",
       "    <tr>\n",
       "      <th>2017-08-02</th>\n",
       "      <td>68.0</td>\n",
       "      <td>75.6</td>\n",
       "      <td>84.0</td>\n",
       "    </tr>\n",
       "    <tr>\n",
       "      <th>2017-08-03</th>\n",
       "      <td>70.0</td>\n",
       "      <td>76.6</td>\n",
       "      <td>85.0</td>\n",
       "    </tr>\n",
       "    <tr>\n",
       "      <th>2017-08-04</th>\n",
       "      <td>69.0</td>\n",
       "      <td>76.7</td>\n",
       "      <td>84.0</td>\n",
       "    </tr>\n",
       "    <tr>\n",
       "      <th>2017-08-05</th>\n",
       "      <td>69.0</td>\n",
       "      <td>76.1</td>\n",
       "      <td>82.0</td>\n",
       "    </tr>\n",
       "    <tr>\n",
       "      <th>2017-08-06</th>\n",
       "      <td>67.0</td>\n",
       "      <td>76.3</td>\n",
       "      <td>83.0</td>\n",
       "    </tr>\n",
       "    <tr>\n",
       "      <th>2017-08-07</th>\n",
       "      <td>71.0</td>\n",
       "      <td>77.2</td>\n",
       "      <td>83.0</td>\n",
       "    </tr>\n",
       "  </tbody>\n",
       "</table>\n",
       "</div>"
      ],
      "text/plain": [
       "            Min Temp  Avg Temp  Max Temp\n",
       "Date                                    \n",
       "2017-08-01      67.0      75.5      83.0\n",
       "2017-08-02      68.0      75.6      84.0\n",
       "2017-08-03      70.0      76.6      85.0\n",
       "2017-08-04      69.0      76.7      84.0\n",
       "2017-08-05      69.0      76.1      82.0\n",
       "2017-08-06      67.0      76.3      83.0\n",
       "2017-08-07      71.0      77.2      83.0"
      ]
     },
     "execution_count": 21,
     "metadata": {},
     "output_type": "execute_result"
    }
   ],
   "source": [
    "# Load the previous query results into a Pandas DataFrame and add the `trip_dates` range as the `date` index\n",
    "\n",
    "trip_temp_df=pd.DataFrame(normals[1:], columns=normals[0])\n",
    "\n",
    "trip_temp_df.set_index('Date', drop=True, inplace=True)\n",
    "trip_temp_df"
   ]
  },
  {
   "cell_type": "code",
   "execution_count": 31,
   "metadata": {},
   "outputs": [
    {
     "data": {
      "image/png": "[encoded data removed]",
      "text/plain": [
       "<Figure size 720x360 with 1 Axes>"
      ]
     },
     "metadata": {},
     "output_type": "display_data"
    }
   ],
   "source": [
    "# Plot the daily normals as an area plot with `stacked=False`\n",
    "\n",
    "trip_temp_df.plot.area(figsize=(10, 5),                                # Area plot\n",
    "                       stacked=False,                                  # Stacked = False\n",
    "                       title='Temperatures During Trip Date Range', \n",
    "                       ylim=(min(trip_temp_df['Min Temp'])-5, max(trip_temp_df['Max Temp'])+5), \n",
    "                       xlim=(-.2, len(trip_temp_df)-.8),               # Automatically adjust x and y limits\n",
    "                       rot=45,                                         # Put date labels at angles\n",
    "                       legend=False                                    # Turn off legend because plt.legend\n",
    "                      )                                                #    has better options below\n",
    "\n",
    "plt.legend(loc='center', bbox_to_anchor=(.2, .2))                      # Plot legend \n",
    "\n",
    "plt.savefig(\"output_charts/temps_during_trip_date_range.png\",          # Export chart\n",
    "            transparent=False)\n",
    "\n",
    "plt.show()"
   ]
  },
  {
   "cell_type": "markdown",
   "metadata": {},
   "source": [
    "## Close Session"
   ]
  },
  {
   "cell_type": "code",
   "execution_count": 32,
   "metadata": {},
   "outputs": [],
   "source": [
    "# Close Session\n",
    "session.close()"
   ]
  }
 ],
 "metadata": {
  "kernelspec": {
   "display_name": "Python 3",
   "language": "python",
   "name": "python3"
  },
  "language_info": {
   "codemirror_mode": {
    "name": "ipython",
    "version": 3
   },
   "file_extension": ".py",
   "mimetype": "text/x-python",
   "name": "python",
   "nbconvert_exporter": "python",
   "pygments_lexer": "ipython3",
   "version": "3.8.5"
  }
 },
 "nbformat": 4,
 "nbformat_minor": 4
}
