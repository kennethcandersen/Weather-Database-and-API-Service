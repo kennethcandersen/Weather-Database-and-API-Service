{
 "cells": [
  {
   "cell_type": "code",
   "execution_count": 1,
   "metadata": {},
   "outputs": [],
   "source": [
    "%matplotlib inline\n",
    "from matplotlib import style\n",
    "style.use('fivethirtyeight')\n",
    "import matplotlib.pyplot as plt\n",
    "import math"
   ]
  },
  {
   "cell_type": "code",
   "execution_count": 2,
   "metadata": {},
   "outputs": [],
   "source": [
    "import numpy as np\n",
    "import pandas as pd\n",
    "import datetime as dt\n",
    "from scipy import stats\n",
    "from datetime import datetime as dt\n",
    "from datetime import timedelta "
   ]
  },
  {
   "cell_type": "markdown",
   "metadata": {},
   "source": [
    "# Reflect Tables into SQLAlchemy ORM"
   ]
  },
  {
   "cell_type": "code",
   "execution_count": 3,
   "metadata": {},
   "outputs": [],
   "source": [
    "# Python SQL toolkit and Object Relational Mapper\n",
    "import sqlalchemy\n",
    "from sqlalchemy.ext.automap import automap_base\n",
    "from sqlalchemy.orm import Session\n",
    "from sqlalchemy import create_engine, func, inspect\n",
    "from sqlalchemy import cast, Date"
   ]
  },
  {
   "cell_type": "code",
   "execution_count": 4,
   "metadata": {},
   "outputs": [],
   "source": [
    "# create engine to hawaii.sqlite\n",
    "engine = create_engine(\"sqlite:///Resources/hawaii.sqlite\")\n"
   ]
  },
  {
   "cell_type": "code",
   "execution_count": 5,
   "metadata": {},
   "outputs": [],
   "source": [
    "# reflect an existing database into a new model\n",
    "\n",
    "Base = automap_base()\n",
    "Base.prepare(engine, reflect=True)"
   ]
  },
  {
   "cell_type": "code",
   "execution_count": 6,
   "metadata": {},
   "outputs": [
    {
     "data": {
      "text/plain": [
       "['measurement', 'station']"
      ]
     },
     "execution_count": 6,
     "metadata": {},
     "output_type": "execute_result"
    }
   ],
   "source": [
    "# View all of the classes that automap found\n",
    "inspector = inspect(engine)\n",
    "inspector.get_table_names()"
   ]
  },
  {
   "cell_type": "code",
   "execution_count": 7,
   "metadata": {},
   "outputs": [],
   "source": [
    "# Save references to each table\n",
    "\n",
    "Measurements = Base.classes.measurement\n",
    "Stations = Base.classes.station"
   ]
  },
  {
   "cell_type": "code",
   "execution_count": 8,
   "metadata": {},
   "outputs": [
    {
     "name": "stdout",
     "output_type": "stream",
     "text": [
      "id INTEGER\n",
      "station TEXT\n",
      "date TEXT\n",
      "prcp FLOAT\n",
      "tobs FLOAT\n"
     ]
    }
   ],
   "source": [
    "# View columns in Measurements\n",
    "columns = inspector.get_columns('measurement')\n",
    "for column in columns:\n",
    "    print(column[\"name\"], column[\"type\"])"
   ]
  },
  {
   "cell_type": "code",
   "execution_count": 9,
   "metadata": {},
   "outputs": [
    {
     "name": "stdout",
     "output_type": "stream",
     "text": [
      "id INTEGER\n",
      "station TEXT\n",
      "name TEXT\n",
      "latitude FLOAT\n",
      "longitude FLOAT\n",
      "elevation FLOAT\n"
     ]
    }
   ],
   "source": [
    "# View columns in Stations\n",
    "columns = inspector.get_columns('station')\n",
    "for column in columns:\n",
    "    print(column[\"name\"], column[\"type\"])"
   ]
  },
  {
   "cell_type": "code",
   "execution_count": 10,
   "metadata": {},
   "outputs": [],
   "source": [
    "# Create our session (link) from Python to the DB\n",
    "\n",
    "session = Session(engine)"
   ]
  },
  {
   "cell_type": "markdown",
   "metadata": {},
   "source": [
    "# Exploratory Precipitation Analysis"
   ]
  },
  {
   "cell_type": "code",
   "execution_count": 11,
   "metadata": {},
   "outputs": [
    {
     "name": "stdout",
     "output_type": "stream",
     "text": [
      "Most recent date in the data set is 2017-08-23\n"
     ]
    }
   ],
   "source": [
    "# Find the most recent date in the data set.\n",
    "\n",
    "most_recent_date = session.query(Measurements).order_by(Measurements.date.desc()).first()\n",
    "\n",
    "print(f\"Most recent date in the data set is {most_recent_date.date}\")\n"
   ]
  },
  {
   "cell_type": "code",
   "execution_count": 14,
   "metadata": {
    "scrolled": true
   },
   "outputs": [
    {
     "data": {
      "text/html": [
       "<div>\n",
       "<style scoped>\n",
       "    .dataframe tbody tr th:only-of-type {\n",
       "        vertical-align: middle;\n",
       "    }\n",
       "\n",
       "    .dataframe tbody tr th {\n",
       "        vertical-align: top;\n",
       "    }\n",
       "\n",
       "    .dataframe thead th {\n",
       "        text-align: right;\n",
       "    }\n",
       "</style>\n",
       "<table border=\"1\" class=\"dataframe\">\n",
       "  <thead>\n",
       "    <tr style=\"text-align: right;\">\n",
       "      <th></th>\n",
       "      <th>Date</th>\n",
       "      <th>Ave Precip in CM</th>\n",
       "    </tr>\n",
       "  </thead>\n",
       "  <tbody>\n",
       "    <tr>\n",
       "      <th>0</th>\n",
       "      <td>2016-08-24</td>\n",
       "      <td>1.555000</td>\n",
       "    </tr>\n",
       "    <tr>\n",
       "      <th>1</th>\n",
       "      <td>2016-08-25</td>\n",
       "      <td>0.077143</td>\n",
       "    </tr>\n",
       "    <tr>\n",
       "      <th>2</th>\n",
       "      <td>2016-08-26</td>\n",
       "      <td>0.016667</td>\n",
       "    </tr>\n",
       "    <tr>\n",
       "      <th>3</th>\n",
       "      <td>2016-08-27</td>\n",
       "      <td>0.064000</td>\n",
       "    </tr>\n",
       "    <tr>\n",
       "      <th>4</th>\n",
       "      <td>2016-08-28</td>\n",
       "      <td>0.516667</td>\n",
       "    </tr>\n",
       "  </tbody>\n",
       "</table>\n",
       "</div>"
      ],
      "text/plain": [
       "         Date  Ave Precip in CM\n",
       "0  2016-08-24          1.555000\n",
       "1  2016-08-25          0.077143\n",
       "2  2016-08-26          0.016667\n",
       "3  2016-08-27          0.064000\n",
       "4  2016-08-28          0.516667"
      ]
     },
     "execution_count": 14,
     "metadata": {},
     "output_type": "execute_result"
    }
   ],
   "source": [
    "# Design a query to retrieve the last 12 months of precipitation data\n",
    "\n",
    "most_recent_date_dt_object = dt.strptime(most_recent_date.date, '%Y-%m-%d')\n",
    "\n",
    "year_ago = dt.date(most_recent_date_dt_object) - timedelta(days=365)\n",
    "\n",
    "stmt = session.query(Measurements.date, func.avg(Measurements.prcp)).\\\n",
    "    filter(Measurements.date > year_ago).\\\n",
    "    group_by(Measurements.date).order_by(Measurements.date).statement\n",
    "\n",
    "average_prcp_df = pd.read_sql_query(stmt, session.bind).\\\n",
    "    rename(columns={'date' : 'Date', 'avg_1': 'Ave Precip in CM'})\n",
    "\n",
    "average_prcp_df.head()\n"
   ]
  },
  {
   "cell_type": "code",
   "execution_count": 15,
   "metadata": {},
   "outputs": [
    {
     "data": {
      "text/html": [
       "<div>\n",
       "<style scoped>\n",
       "    .dataframe tbody tr th:only-of-type {\n",
       "        vertical-align: middle;\n",
       "    }\n",
       "\n",
       "    .dataframe tbody tr th {\n",
       "        vertical-align: top;\n",
       "    }\n",
       "\n",
       "    .dataframe thead th {\n",
       "        text-align: right;\n",
       "    }\n",
       "</style>\n",
       "<table border=\"1\" class=\"dataframe\">\n",
       "  <thead>\n",
       "    <tr style=\"text-align: right;\">\n",
       "      <th></th>\n",
       "      <th>Ave Precip in CM</th>\n",
       "    </tr>\n",
       "  </thead>\n",
       "  <tbody>\n",
       "    <tr>\n",
       "      <th>count</th>\n",
       "      <td>365.000000</td>\n",
       "    </tr>\n",
       "    <tr>\n",
       "      <th>mean</th>\n",
       "      <td>0.169987</td>\n",
       "    </tr>\n",
       "    <tr>\n",
       "      <th>std</th>\n",
       "      <td>0.295722</td>\n",
       "    </tr>\n",
       "    <tr>\n",
       "      <th>min</th>\n",
       "      <td>0.000000</td>\n",
       "    </tr>\n",
       "    <tr>\n",
       "      <th>25%</th>\n",
       "      <td>0.008571</td>\n",
       "    </tr>\n",
       "    <tr>\n",
       "      <th>50%</th>\n",
       "      <td>0.070000</td>\n",
       "    </tr>\n",
       "    <tr>\n",
       "      <th>75%</th>\n",
       "      <td>0.191667</td>\n",
       "    </tr>\n",
       "    <tr>\n",
       "      <th>max</th>\n",
       "      <td>2.380000</td>\n",
       "    </tr>\n",
       "  </tbody>\n",
       "</table>\n",
       "</div>"
      ],
      "text/plain": [
       "       Ave Precip in CM\n",
       "count        365.000000\n",
       "mean           0.169987\n",
       "std            0.295722\n",
       "min            0.000000\n",
       "25%            0.008571\n",
       "50%            0.070000\n",
       "75%            0.191667\n",
       "max            2.380000"
      ]
     },
     "execution_count": 15,
     "metadata": {},
     "output_type": "execute_result"
    }
   ],
   "source": [
    "# Use Pandas to calcualte the summary statistics for the precipitation data\n",
    "\n",
    "average_prcp_df.describe()"
   ]
  },
  {
   "cell_type": "code",
   "execution_count": 16,
   "metadata": {},
   "outputs": [
    {
     "data": {
      "image/png": "[encoded data removed]",
      "text/plain": [
       "<Figure size 1440x720 with 1 Axes>"
      ]
     },
     "metadata": {},
     "output_type": "display_data"
    }
   ],
   "source": [
    "#Plot the average precipitation results. \n",
    "\n",
    "plt.figure(num=None, figsize=(20,10), dpi=None, \n",
    "                         facecolor=None, edgecolor=None, frameon=True)\n",
    "\n",
    "x_axis = average_prcp_df['Date']\n",
    "\n",
    "y_axis = average_prcp_df['Ave Precip in CM']\n",
    "l = len(average_prcp_df)\n",
    "\n",
    "prcp_range = max(y_axis)-min(y_axis)\n",
    "\n",
    "x_tx = [tk_x for tk_x in range(1, (l)+1, int(l/12))]\n",
    "y_tx = [round(tk_y,2) for tk_y in np.arange(0, math.ceil(prcp_range), math.ceil(prcp_range)/10)]\n",
    "\n",
    "labels=[dt.strptime(x_axis[tk], '%Y-%m-%d').strftime(\"%b \\'%y\") for tk in x_tx]\n",
    "    \n",
    "plt.xticks(ticks=x_tx, labels=labels)\n",
    "plt.yticks(ticks=y_tx)\n",
    "\n",
    "plt.bar(x_axis, y_axis, label='Precipitation')\n",
    "\n",
    "plt.xlim(-len(x_axis)*.025, len(x_axis)*1.025)\n",
    "plt.ylim(-.1, max(y_axis)*1.1)\n",
    "\n",
    "plt.title(\"AVERAGE RAINFALL PER DAY\\n(in centimeters)\", fontsize='xx-large',             # Set up title\n",
    "          loc='center', pad=20)\n",
    "plt.xlabel(\"Date\", fontsize='xx-large', labelpad=10)\n",
    "plt.ylabel(\"Average Rainfall in CM\", fontsize='xx-large', labelpad=10)\n",
    "plt.legend()\n",
    "\n",
    "\n",
    "plt.savefig(\"output_charts/average_rainfall.png\", transparent=False)        # Export chart\n",
    "\n",
    "plt.show()"
   ]
  },
  {
   "cell_type": "markdown",
   "metadata": {},
   "source": [
    "# Exploratory Station Analysis"
   ]
  },
  {
   "cell_type": "code",
   "execution_count": 17,
   "metadata": {},
   "outputs": [
    {
     "name": "stdout",
     "output_type": "stream",
     "text": [
      "Total number of weather stations in the dataset: 9\n"
     ]
    }
   ],
   "source": [
    "# Design a query to calculate the total number stations in the dataset\n",
    "stations_count = session.query(Stations.station.distinct()).count()\n",
    "print(f\"Total number of weather stations in the dataset: {stations_count}\")"
   ]
  },
  {
   "cell_type": "code",
   "execution_count": 18,
   "metadata": {},
   "outputs": [
    {
     "data": {
      "text/html": [
       "<div>\n",
       "<style scoped>\n",
       "    .dataframe tbody tr th:only-of-type {\n",
       "        vertical-align: middle;\n",
       "    }\n",
       "\n",
       "    .dataframe tbody tr th {\n",
       "        vertical-align: top;\n",
       "    }\n",
       "\n",
       "    .dataframe thead th {\n",
       "        text-align: right;\n",
       "    }\n",
       "</style>\n",
       "<table border=\"1\" class=\"dataframe\">\n",
       "  <thead>\n",
       "    <tr style=\"text-align: right;\">\n",
       "      <th></th>\n",
       "      <th>Station ID</th>\n",
       "      <th>Station Name</th>\n",
       "      <th># of Measurements</th>\n",
       "    </tr>\n",
       "  </thead>\n",
       "  <tbody>\n",
       "    <tr>\n",
       "      <th>0</th>\n",
       "      <td>7</td>\n",
       "      <td>USC00519281</td>\n",
       "      <td>2772</td>\n",
       "    </tr>\n",
       "    <tr>\n",
       "      <th>1</th>\n",
       "      <td>1</td>\n",
       "      <td>USC00519397</td>\n",
       "      <td>2724</td>\n",
       "    </tr>\n",
       "    <tr>\n",
       "      <th>2</th>\n",
       "      <td>2</td>\n",
       "      <td>USC00513117</td>\n",
       "      <td>2709</td>\n",
       "    </tr>\n",
       "    <tr>\n",
       "      <th>3</th>\n",
       "      <td>6</td>\n",
       "      <td>USC00519523</td>\n",
       "      <td>2669</td>\n",
       "    </tr>\n",
       "    <tr>\n",
       "      <th>4</th>\n",
       "      <td>9</td>\n",
       "      <td>USC00516128</td>\n",
       "      <td>2612</td>\n",
       "    </tr>\n",
       "    <tr>\n",
       "      <th>5</th>\n",
       "      <td>3</td>\n",
       "      <td>USC00514830</td>\n",
       "      <td>2202</td>\n",
       "    </tr>\n",
       "    <tr>\n",
       "      <th>6</th>\n",
       "      <td>8</td>\n",
       "      <td>USC00511918</td>\n",
       "      <td>1979</td>\n",
       "    </tr>\n",
       "    <tr>\n",
       "      <th>7</th>\n",
       "      <td>4</td>\n",
       "      <td>USC00517948</td>\n",
       "      <td>1372</td>\n",
       "    </tr>\n",
       "    <tr>\n",
       "      <th>8</th>\n",
       "      <td>5</td>\n",
       "      <td>USC00518838</td>\n",
       "      <td>511</td>\n",
       "    </tr>\n",
       "  </tbody>\n",
       "</table>\n",
       "</div>"
      ],
      "text/plain": [
       "   Station ID Station Name  # of Measurements\n",
       "0           7  USC00519281               2772\n",
       "1           1  USC00519397               2724\n",
       "2           2  USC00513117               2709\n",
       "3           6  USC00519523               2669\n",
       "4           9  USC00516128               2612\n",
       "5           3  USC00514830               2202\n",
       "6           8  USC00511918               1979\n",
       "7           4  USC00517948               1372\n",
       "8           5  USC00518838                511"
      ]
     },
     "execution_count": 18,
     "metadata": {},
     "output_type": "execute_result"
    }
   ],
   "source": [
    "# Design a query to find the most active stations (i.e. what stations have the most rows?)\n",
    "# List the stations and the counts in descending order.\n",
    "\n",
    "stmt = session.query(Stations.id, Measurements.station, func.count(Measurements.station)).\\\n",
    "    filter(Measurements.station == Stations.station).\\\n",
    "    group_by(Measurements.station).order_by(func.count(Measurements.station).desc()).statement\n",
    "\n",
    "most_active_stations = pd.read_sql_query(stmt, session.bind).\\\n",
    "    rename(columns={'station' : 'Station Name', 'id' : 'Station ID', 'count_1': '# of Measurements'})\n",
    "\n",
    "most_active_stations"
   ]
  },
  {
   "cell_type": "code",
   "execution_count": 63,
   "metadata": {},
   "outputs": [
    {
     "data": {
      "text/html": [
       "<div>\n",
       "<style scoped>\n",
       "    .dataframe tbody tr th:only-of-type {\n",
       "        vertical-align: middle;\n",
       "    }\n",
       "\n",
       "    .dataframe tbody tr th {\n",
       "        vertical-align: top;\n",
       "    }\n",
       "\n",
       "    .dataframe thead th {\n",
       "        text-align: right;\n",
       "    }\n",
       "</style>\n",
       "<table border=\"1\" class=\"dataframe\">\n",
       "  <thead>\n",
       "    <tr style=\"text-align: right;\">\n",
       "      <th></th>\n",
       "      <th>Most Active Station ID</th>\n",
       "      <th>Most Active Station Name</th>\n",
       "      <th>Min Temp</th>\n",
       "      <th>Max Temp</th>\n",
       "      <th>Avg Temp</th>\n",
       "    </tr>\n",
       "  </thead>\n",
       "  <tbody>\n",
       "    <tr>\n",
       "      <th>0</th>\n",
       "      <td>7</td>\n",
       "      <td>USC00519281</td>\n",
       "      <td>54.0</td>\n",
       "      <td>85.0</td>\n",
       "      <td>71.7</td>\n",
       "    </tr>\n",
       "  </tbody>\n",
       "</table>\n",
       "</div>"
      ],
      "text/plain": [
       "   Most Active Station ID Most Active Station Name  Min Temp  Max Temp  \\\n",
       "0                       7              USC00519281      54.0      85.0   \n",
       "\n",
       "   Avg Temp  \n",
       "0      71.7  "
      ]
     },
     "execution_count": 63,
     "metadata": {},
     "output_type": "execute_result"
    }
   ],
   "source": [
    "# Using the most active station id from the previous query, calculate the \n",
    "#lowest, highest, and average temperature.\n",
    "\n",
    "most_active_station = session.query(Stations.id, Stations.station).\\\n",
    "    filter(Measurements.station == Stations.station).\\\n",
    "    group_by(Measurements.station).order_by(func.count(Measurements.station).desc()).first()\n",
    "\n",
    "min_temp, max_temp, avg_temp  = session.query(func.min(Measurements.tobs), \n",
    "                                 func.max(Measurements.tobs), \n",
    "                                 func.round(func.avg(Measurements.tobs), 1)).\\\n",
    "                    filter(Measurements.station == Stations.station).\\\n",
    "                    filter(Stations.id == most_active_station.id).all()[0]\n",
    "\n",
    "min_max_avg_tobs_df = pd.DataFrame({'Most Active Station ID' : [most_active_station.id], \n",
    "                                    'Most Active Station Name' : [most_active_station.station],\n",
    "                                    'Min Temp': min_temp,\n",
    "                                    'Max Temp' : max_temp,\n",
    "                                    'Avg Temp' : avg_temp})\n",
    "\n",
    "min_max_avg_tobs_df\n"
   ]
  },
  {
   "cell_type": "code",
   "execution_count": 62,
   "metadata": {},
   "outputs": [
    {
     "data": {
      "text/html": [
       "<div>\n",
       "<style scoped>\n",
       "    .dataframe tbody tr th:only-of-type {\n",
       "        vertical-align: middle;\n",
       "    }\n",
       "\n",
       "    .dataframe tbody tr th {\n",
       "        vertical-align: top;\n",
       "    }\n",
       "\n",
       "    .dataframe thead th {\n",
       "        text-align: right;\n",
       "    }\n",
       "</style>\n",
       "<table border=\"1\" class=\"dataframe\">\n",
       "  <thead>\n",
       "    <tr style=\"text-align: right;\">\n",
       "      <th></th>\n",
       "      <th>Date</th>\n",
       "      <th>Temp Obs at Station 7</th>\n",
       "    </tr>\n",
       "  </thead>\n",
       "  <tbody>\n",
       "    <tr>\n",
       "      <th>0</th>\n",
       "      <td>2016-08-19</td>\n",
       "      <td>79.0</td>\n",
       "    </tr>\n",
       "    <tr>\n",
       "      <th>1</th>\n",
       "      <td>2016-08-20</td>\n",
       "      <td>81.0</td>\n",
       "    </tr>\n",
       "    <tr>\n",
       "      <th>2</th>\n",
       "      <td>2016-08-21</td>\n",
       "      <td>79.0</td>\n",
       "    </tr>\n",
       "    <tr>\n",
       "      <th>3</th>\n",
       "      <td>2016-08-22</td>\n",
       "      <td>78.0</td>\n",
       "    </tr>\n",
       "    <tr>\n",
       "      <th>4</th>\n",
       "      <td>2016-08-23</td>\n",
       "      <td>77.0</td>\n",
       "    </tr>\n",
       "    <tr>\n",
       "      <th>...</th>\n",
       "      <td>...</td>\n",
       "      <td>...</td>\n",
       "    </tr>\n",
       "    <tr>\n",
       "      <th>351</th>\n",
       "      <td>2017-08-14</td>\n",
       "      <td>77.0</td>\n",
       "    </tr>\n",
       "    <tr>\n",
       "      <th>352</th>\n",
       "      <td>2017-08-15</td>\n",
       "      <td>77.0</td>\n",
       "    </tr>\n",
       "    <tr>\n",
       "      <th>353</th>\n",
       "      <td>2017-08-16</td>\n",
       "      <td>76.0</td>\n",
       "    </tr>\n",
       "    <tr>\n",
       "      <th>354</th>\n",
       "      <td>2017-08-17</td>\n",
       "      <td>76.0</td>\n",
       "    </tr>\n",
       "    <tr>\n",
       "      <th>355</th>\n",
       "      <td>2017-08-18</td>\n",
       "      <td>79.0</td>\n",
       "    </tr>\n",
       "  </tbody>\n",
       "</table>\n",
       "<p>356 rows × 2 columns</p>\n",
       "</div>"
      ],
      "text/plain": [
       "           Date  Temp Obs at Station 7\n",
       "0    2016-08-19                   79.0\n",
       "1    2016-08-20                   81.0\n",
       "2    2016-08-21                   79.0\n",
       "3    2016-08-22                   78.0\n",
       "4    2016-08-23                   77.0\n",
       "..          ...                    ...\n",
       "351  2017-08-14                   77.0\n",
       "352  2017-08-15                   77.0\n",
       "353  2017-08-16                   76.0\n",
       "354  2017-08-17                   76.0\n",
       "355  2017-08-18                   79.0\n",
       "\n",
       "[356 rows x 2 columns]"
      ]
     },
     "execution_count": 62,
     "metadata": {},
     "output_type": "execute_result"
    }
   ],
   "source": [
    "# Using the most active station id Query the last 12 months of temperature observation \n",
    "# data for this station and plot the results as a histogram\n",
    "\n",
    "most_active_station = session.query(Stations.id, Stations.station).\\\n",
    "    filter(Measurements.station == Stations.station).\\\n",
    "    group_by(Measurements.station).order_by(func.count(Measurements.station).desc()).first()\n",
    "\n",
    "most_recent_date = session.query(Measurements).\\\n",
    "    filter(Measurements.station == Stations.station).\\\n",
    "    filter(Stations.id == most_active_station.id).\\\n",
    "    order_by(Measurements.date.desc()).first()\n",
    "\n",
    "most_recent_date_dt_object = dt.strptime(most_recent_date.date, '%Y-%m-%d')\n",
    "\n",
    "one_year_before_most_recent = most_recent_date_dt_object.date() - timedelta(days=365)\n",
    "\n",
    "stmt = session.query(Measurements.date, Measurements.tobs).\\\n",
    "    filter(Measurements.station == Stations.station).\\\n",
    "    filter(Stations.id == most_active_station.id).\\\n",
    "    filter(Measurements.date <= most_recent_date.date, \n",
    "           Measurements.date > one_year_before_most_recent.strftime(\"%Y-%m-%d\")).statement \n",
    "\n",
    "most_active_station_12months = pd.read_sql_query(stmt, session.bind).\\\n",
    "    rename(columns={'date' : 'Date', 'tobs' :f\"Temp Obs at Station {most_active_station.id}\"})\n",
    "\n",
    "most_active_station_12months\n"
   ]
  },
  {
   "cell_type": "code",
   "execution_count": 48,
   "metadata": {},
   "outputs": [
    {
     "data": {
      "image/png": "[encoded data removed]",
      "text/plain": [
       "<Figure size 864x576 with 1 Axes>"
      ]
     },
     "metadata": {},
     "output_type": "display_data"
    }
   ],
   "source": [
    "#Plot the temperature observations. \n",
    "\n",
    "temps = most_active_station_12months.iloc[:, 1]                                         # Set up x axis\n",
    "\n",
    "plt.figure(figsize=(12, 8))                                           # Set up plot figure size\n",
    "\n",
    "n, bins, patches = plt.hist(temps, bins=12, histtype='bar',        # Plot histogram with defined number of bins\n",
    "                            align='mid', orientation='vertical', \n",
    "                            rwidth=.7,  color='steelblue', \n",
    "                            label=f\"Temperature Observations at Station {most_active_station.id}\")\n",
    "\n",
    "plt.xticks(bins, rotation = 90)                                       # Set up x ticks\n",
    "\n",
    "plt.xlabel('Temperature Observations', fontsize='xx-large', labelpad=10)  # Set up x axis label\n",
    "plt.ylabel('Frequency', fontsize='xx-large', labelpad=10)             # Set up y axis label\n",
    "plt.title(f\"TEMPERATURE OBSERVATIONS HISTOGRAM\\nStation {most_active_station.id}\", fontsize='xx-large',             # Set up title\n",
    "          loc='center', pad=20)\n",
    "\n",
    "plt.legend()                                                          # Add legend\n",
    "\n",
    "plt.tight_layout()\n",
    "\n",
    "plt.savefig(\"output_charts/temp_obs_histogram.png\", transparent=False)        # Export chart\n",
    "\n",
    "plt.show()"
   ]
  },
  {
   "cell_type": "markdown",
   "metadata": {},
   "source": [
    "# Close session"
   ]
  },
  {
   "cell_type": "code",
   "execution_count": 64,
   "metadata": {},
   "outputs": [],
   "source": [
    "# Close Session\n",
    "session.close()"
   ]
  },
  {
   "cell_type": "code",
   "execution_count": null,
   "metadata": {},
   "outputs": [],
   "source": []
  }
 ],
 "metadata": {
  "anaconda-cloud": {},
  "kernel_info": {
   "name": "python3"
  },
  "kernelspec": {
   "display_name": "Python 3",
   "language": "python",
   "name": "python3"
  },
  "language_info": {
   "codemirror_mode": {
    "name": "ipython",
    "version": 3
   },
   "file_extension": ".py",
   "mimetype": "text/x-python",
   "name": "python",
   "nbconvert_exporter": "python",
   "pygments_lexer": "ipython3",
   "version": "3.8.5"
  },
  "nteract": {
   "version": "0.12.3"
  },
  "varInspector": {
   "cols": {
    "lenName": 16,
    "lenType": 16,
    "lenVar": 40
   },
   "kernels_config": {
    "python": {
     "delete_cmd_postfix": "",
     "delete_cmd_prefix": "del ",
     "library": "var_list.py",
     "varRefreshCmd": "print(var_dic_list())"
    },
    "r": {
     "delete_cmd_postfix": ") ",
     "delete_cmd_prefix": "rm(",
     "library": "var_list.r",
     "varRefreshCmd": "cat(var_dic_list()) "
    }
   },
   "types_to_exclude": [
    "module",
    "function",
    "builtin_function_or_method",
    "instance",
    "_Feature"
   ],
   "window_display": false
  }
 },
 "nbformat": 4,
 "nbformat_minor": 2
}
